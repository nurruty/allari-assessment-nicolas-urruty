{
 "cells": [
  {
   "cell_type": "code",
   "execution_count": 17,
   "id": "c9905b50-a5f2-48fd-b6fe-65b623dc5edd",
   "metadata": {},
   "outputs": [],
   "source": [
    "import json\n",
    "from datetime import datetime\n",
    "\n",
    "class Experience:\n",
    "    def __init__(self, company, title, start, end):\n",
    "        self.company = company\n",
    "        self.title = title\n",
    "        self.start = start\n",
    "        self.end = end\n",
    "\n",
    "class Person:\n",
    "    def __init__(self, id, first, last, phone, experience):\n",
    "        self.id = id\n",
    "        self.first = first\n",
    "        self.last = last\n",
    "        self.phone = phone\n",
    "        self.experience = experience\n",
    "\n",
    "def load_persons_from_json(file_path):\n",
    "    persons = dict()\n",
    "    with open(file_path, 'r') as file:\n",
    "        data = json.load(file)\n",
    "        for item in data:\n",
    "            id = item.get('id')\n",
    "            first = item.get('first')\n",
    "            last = item.get('last')\n",
    "            phone = item.get('phone')\n",
    "            if phone is not None and '-' not in phone:\n",
    "                phone = phone[:1] + '-' + phone[1:5] + '-' + phone[5:]  # Add dash if missing\n",
    "            experience_list = []\n",
    "            for exp in item.get('experience', []):\n",
    "                company = exp.get('company')\n",
    "                title = exp.get('title')\n",
    "                start = datetime.strptime(exp.get('start'), \"%Y-%m-%d\").date()\n",
    "                end = datetime.strptime(exp.get('end'), \"%Y-%m-%d\").date() if exp.get('end') else None\n",
    "                experience = Experience(company, title, start, end)\n",
    "                experience_list.append(experience)\n",
    "            person = Person(id, first, last, phone, experience_list)\n",
    "            persons[person.id] = (person)\n",
    "    return persons"
   ]
  },
  {
   "cell_type": "code",
   "execution_count": 18,
   "id": "da2f1ec8",
   "metadata": {},
   "outputs": [
    {
     "name": "stdout",
     "output_type": "stream",
     "text": [
      "0 Jane Doe 1-2123458974 OrangeCart\n",
      "1 Steve Jobs (212) 345-8974 Allari\n",
      "2 Bill Gates 1-2123411113 OrangeCart\n",
      "3 Tim Cook (-1) 2-12345897 Google\n",
      "4 Alan Turing 5-9895-55120 Google\n",
      "5 Bugs Bunny 1-2123458004 Pixar\n"
     ]
    }
   ],
   "source": [
    "file_path = 'persons.json'\n",
    "persons = load_persons_from_json(file_path)\n",
    "for person_id in persons:\n",
    "    person = persons[person_id]\n",
    "    print(person.id, person.first, person.last, person.phone, person.experience[0].company)\n"
   ]
  },
  {
   "cell_type": "code",
   "execution_count": 19,
   "id": "1323493b",
   "metadata": {},
   "outputs": [],
   "source": [
    "def get_connected_persons_by_job(persons, person_id):\n",
    "    connected = []\n",
    "\n",
    "    if(person_id not in persons):\n",
    "        print('Error: Person with ID not found')\n",
    "        return\n",
    "\n",
    "    target_person = persons[person_id]\n",
    "\n",
    "    for key in persons:\n",
    "        if(key != person_id):\n",
    "            person = persons[key]\n",
    "            if(person.experience[0].company == target_person.experience[0].company):\n",
    "                connected.append(person)\n",
    "        \n",
    "\n",
    "    return connected"
   ]
  },
  {
   "cell_type": "code",
   "execution_count": 20,
   "id": "f70631cf",
   "metadata": {},
   "outputs": [
    {
     "name": "stdout",
     "output_type": "stream",
     "text": [
      "2\n",
      "1\n"
     ]
    }
   ],
   "source": [
    "file_path = 'persons.json'\n",
    "persons = load_persons_from_json(file_path)\n",
    "coworkers = get_connected_persons(persons, 0)\n",
    "print(coworkers[0].id)\n",
    "\n",
    "file_path = 'persons.json'\n",
    "persons = load_persons_from_json(file_path)\n",
    "coworkers = get_connected_persons(persons, 2)\n",
    "print(len(coworkers))"
   ]
  },
  {
   "cell_type": "code",
   "execution_count": 21,
   "id": "2eaad9ec",
   "metadata": {},
   "outputs": [],
   "source": [
    "def overlaps_90_days(start1, end1, start2, end2):\n",
    "    today = datetime.today().date()\n",
    "    end_or_today1 = end1 or today\n",
    "    end_or_today2 = end2 or today\n",
    "         \n",
    "    if(start1 <= end_or_today2 and end_or_today1 >= start2) or (start2 <= end_or_today1 and end_or_today2 >= start1):\n",
    "        diff = 0\n",
    "        # When one range contains another\n",
    "        if(start1 <= start2) and (end_or_today1 >= end_or_today2):\n",
    "            diff = end_or_today2 - start2\n",
    "             \n",
    "        # When one range is included in the other\n",
    "        if(start2 <= start1) and (end_or_today1 <= end_or_today2):\n",
    "            diff = end_or_today1 - start1\n",
    "\n",
    "        # When ranges partially intercept - right\n",
    "        if(start1 >= start2) and (end_or_today1 >= end_or_today2):\n",
    "            diff = end_or_today2 - start1\n",
    "\n",
    "        #When ranges partially intercept - left\n",
    "        if(start1 <= start2) and (end_or_today1 <= end_or_today2):\n",
    "            diff = end_or_today1 - start2\n",
    "        \n",
    "        return diff.days > 90\n",
    "    else:\n",
    "        return False\n",
    "       \n"
   ]
  },
  {
   "cell_type": "code",
   "execution_count": 26,
   "id": "e00b721a",
   "metadata": {},
   "outputs": [],
   "source": [
    "def have_worked_together(first_person, second_person):\n",
    "    for exp1 in first_person.experience:\n",
    "        for exp2 in second_person.experience:\n",
    "            if exp1.company == exp2.company and overlaps_90_days(exp1.start, exp1.end, exp2.start, exp2.end):\n",
    "                return True\n",
    "    return False"
   ]
  },
  {
   "cell_type": "code",
   "execution_count": 28,
   "id": "40d3ab58",
   "metadata": {},
   "outputs": [
    {
     "name": "stdout",
     "output_type": "stream",
     "text": [
      "[2]\n",
      "[]\n",
      "[0]\n",
      "[4]\n",
      "[3]\n",
      "[]\n"
     ]
    }
   ],
   "source": [
    "def get_connected_persons_by_job(persons, person_id):\n",
    "    connectedIds = []\n",
    "    \n",
    "    if(person_id not in persons):\n",
    "        print('Error: Person with ID not found')\n",
    "        return\n",
    "\n",
    "    target_person = persons[person_id]\n",
    "    \n",
    "    for key in persons:\n",
    "        if(key != person_id):\n",
    "          person = persons[key]\n",
    "          if(target_person != None) and have_worked_together(person, target_person):\n",
    "            connectedIds.append(person.id)\n",
    "\n",
    "    return connectedIds\n",
    "\n",
    "\n",
    "print(get_connected_persons_by_job(persons,0))\n",
    "print(get_connected_persons_by_job(persons,1))\n",
    "print(get_connected_persons_by_job(persons,2))\n",
    "print(get_connected_persons_by_job(persons,3))\n",
    "print(get_connected_persons_by_job(persons,4))\n",
    "print(get_connected_persons_by_job(persons,5))\n"
   ]
  }
 ],
 "metadata": {
  "kernelspec": {
   "display_name": "Python 3 (ipykernel)",
   "language": "python",
   "name": "python3"
  },
  "language_info": {
   "codemirror_mode": {
    "name": "ipython",
    "version": 3
   },
   "file_extension": ".py",
   "mimetype": "text/x-python",
   "name": "python",
   "nbconvert_exporter": "python",
   "pygments_lexer": "ipython3",
   "version": "3.9.6"
  }
 },
 "nbformat": 4,
 "nbformat_minor": 5
}
