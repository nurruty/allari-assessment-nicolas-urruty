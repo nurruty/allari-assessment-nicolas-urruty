{
 "cells": [
  {
   "cell_type": "code",
   "execution_count": 2,
   "metadata": {},
   "outputs": [],
   "source": [
    "import json\n",
    "\n",
    "class Phone:\n",
    "    def __init__(self, number, type):\n",
    "        self.number = number\n",
    "        self.type = type\n",
    "\n",
    "class Contact:\n",
    "    def __init__(self, id, owner_id, contact_nickname, phones):\n",
    "        self.id = id\n",
    "        self.owner_id = owner_id\n",
    "        self.contact_nickname = contact_nickname\n",
    "        self.phones = phones\n",
    "\n",
    "def load_contacts_from_json(file_path):\n",
    "    contacts = []\n",
    "    with open(file_path, 'r') as file:\n",
    "        data = json.load(file)\n",
    "        for item in data:\n",
    "            id = item.get('id')\n",
    "            owner_id = item.get('owner_id')\n",
    "            contact_nickname = item.get('contact_nickname')\n",
    "            phones = []\n",
    "            for phone_data in item.get('phone', []):\n",
    "                number = normalize_phone(phone_data.get('number'))\n",
    "                type = phone_data.get('type')\n",
    "                phone = Phone(number, type)\n",
    "                phones.append(phone)\n",
    "            contact = Contact(id, owner_id, contact_nickname, phones)\n",
    "            contacts.append(contact)\n",
    "    return contacts\n",
    "\n",
    "def normalize_phone(phone_number):\n",
    "    # Remove non-digit characters and country code if present\n",
    "    digits = ''.join(filter(str.isdigit, phone_number))\n",
    "    if len(digits) == 11 and digits[0] == '1':\n",
    "        digits = digits[1:]  # Remove country code '1'\n",
    "    return digits\n",
    "\n"
   ]
  },
  {
   "cell_type": "code",
   "execution_count": 3,
   "metadata": {},
   "outputs": [
    {
     "name": "stdout",
     "output_type": "stream",
     "text": [
      "Contact ID: 0, Owner ID: 0, Nickname: Alan\n",
      "  Phone Number: 2123459974, Type: landline\n",
      "  Phone Number: 5989555120, Type: cell\n",
      "Contact ID: 1, Owner ID: 1, Nickname: Jane\n",
      "  Phone Number: 2123458974, Type: cell\n",
      "Contact ID: 2, Owner ID: 2, Nickname: Steve\n",
      "  Phone Number: 2123458974, Type: landline\n",
      "Contact ID: 3, Owner ID: 3, Nickname: Jane\n",
      "  Phone Number: 2123411113, Type: landline\n",
      "  Phone Number: 9173454700, Type: cell\n"
     ]
    }
   ],
   "source": [
    "file_path = 'contacts.json'\n",
    "contacts = load_contacts_from_json(file_path)\n",
    "for contact in contacts:\n",
    "    print(f\"Contact ID: {contact.id}, Owner ID: {contact.owner_id}, Nickname: {contact.contact_nickname}\")\n",
    "    for phone in contact.phones:\n",
    "        print(f\"  Phone Number: {phone.number}, Type: {phone.type}\")"
   ]
  },
  {
   "cell_type": "code",
   "execution_count": 4,
   "metadata": {},
   "outputs": [],
   "source": [
    "from load_persons import load_persons_from_json\n",
    "persons = load_persons_from_json('persons.json')\n",
    "contacts = load_contacts_from_json('contacts.json')"
   ]
  },
  {
   "cell_type": "code",
   "execution_count": 6,
   "metadata": {},
   "outputs": [
    {
     "name": "stdout",
     "output_type": "stream",
     "text": [
      "{0: ('1-2123458974', ['2123459974', '5989555120']), 1: ('(212) 345-8974', ['2123458974']), 2: ('1-2123411113', ['2123458974']), 3: ('(-1) 2-12345897', ['2123411113', '9173454700'])}\n"
     ]
    }
   ],
   "source": [
    "def get_phones_by_person(persons, contacts):\n",
    "    contact_phones_by_person = dict()\n",
    "\n",
    "    for person_id in persons:\n",
    "        person = persons[person_id]\n",
    "        for contact in contacts:\n",
    "            if(contact.owner_id == person.id):\n",
    "                contact_phones_by_person[person.id] = (person.phone, [phone.number for phone in contact.phones])\n",
    "\n",
    "    return contact_phones_by_person\n",
    "\n",
    "\n",
    "contact_phones_by_person = get_phones_by_person(persons, contacts)\n",
    "print(contact_phones_by_person)"
   ]
  },
  {
   "cell_type": "code",
   "execution_count": 7,
   "metadata": {},
   "outputs": [],
   "source": [
    "def has_phone_in_contacts(phone, contact_phones):\n",
    "    return phone in contact_phones"
   ]
  },
  {
   "cell_type": "code",
   "execution_count": 9,
   "metadata": {},
   "outputs": [
    {
     "name": "stdout",
     "output_type": "stream",
     "text": [
      "[1, 2]\n",
      "[0, 2]\n",
      "[0, 1, 3]\n",
      "[2]\n",
      "[]\n",
      "[]\n"
     ]
    }
   ],
   "source": [
    "def get_connected_persons_by_contact(contact_phones_by_person, person_id):\n",
    "    connected_ids = []\n",
    "    \n",
    "    if person_id not in contact_phones_by_person:\n",
    "        return []\n",
    "    \n",
    "    person_contact_phones = contact_phones_by_person[person_id][1]\n",
    "    person_phone_number = normalize_phone(contact_phones_by_person[person_id][0])\n",
    "\n",
    "       \n",
    "    for target_id in contact_phones_by_person:\n",
    "        if (target_id != person_id and target_id in contact_phones_by_person ):\n",
    "            target_contact_phones = contact_phones_by_person[target_id][1]\n",
    "            target_phone_number = normalize_phone(contact_phones_by_person[target_id][0])\n",
    "            if has_phone_in_contacts(person_phone_number, target_contact_phones) or has_phone_in_contacts(target_phone_number, person_contact_phones):\n",
    "                connected_ids.append(target_id)\n",
    "\n",
    "\n",
    "    \n",
    "    return connected_ids\n",
    "\n",
    "print(get_connected_persons_by_contact(contact_phones_by_person, 0))\n",
    "print(get_connected_persons_by_contact(contact_phones_by_person, 1))\n",
    "print(get_connected_persons_by_contact(contact_phones_by_person, 2))\n",
    "print(get_connected_persons_by_contact(contact_phones_by_person, 3))\n",
    "print(get_connected_persons_by_contact(contact_phones_by_person, 4))\n",
    "print(get_connected_persons_by_contact(contact_phones_by_person, 5))\n",
    "\n"
   ]
  }
 ],
 "metadata": {
  "kernelspec": {
   "display_name": "Python 3",
   "language": "python",
   "name": "python3"
  },
  "language_info": {
   "codemirror_mode": {
    "name": "ipython",
    "version": 3
   },
   "file_extension": ".py",
   "mimetype": "text/x-python",
   "name": "python",
   "nbconvert_exporter": "python",
   "pygments_lexer": "ipython3",
   "version": "3.9.6"
  }
 },
 "nbformat": 4,
 "nbformat_minor": 2
}
